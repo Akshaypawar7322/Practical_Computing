{
 "cells": [
  {
   "cell_type": "markdown",
   "metadata": {},
   "source": [
    "# Akshay Pawar MT2024"
   ]
  },
  {
   "cell_type": "markdown",
   "metadata": {},
   "source": [
    "# Q.1"
   ]
  },
  {
   "cell_type": "code",
   "execution_count": 6,
   "metadata": {},
   "outputs": [
    {
     "name": "stdout",
     "output_type": "stream",
     "text": [
      "\n",
      " The Surface Area of a Cuboid = 2700.00 \n",
      " The Volume of a Cuboid = 9000.00\n",
      "Area of one of the biggest faces is  600 cm²\n"
     ]
    }
   ],
   "source": [
    "# Python Program to find Surface Area and volume of Cuboid\n",
    "\n",
    "# inputs\n",
    "length = 30\n",
    "width = 20\n",
    "height = 15\n",
    "\n",
    "# Calculate the Surface Area\n",
    "Surface_Area = 2 * (length * width + length * height + width * height)\n",
    "\n",
    "# Calculate the Volume\n",
    "Volume = length * width * height\n",
    "\n",
    " # Calculate the biggest face\n",
    "a = length*width\n",
    "b = width*height\n",
    "c = height*length\n",
    "def maximum(a, b, c):\n",
    "    list = [a, b, c]\n",
    "    return max(list)\n",
    "\n",
    "# FInal output\n",
    "print(\"\\n The Surface Area of a Cuboid = %.2f \" %Surface_Area)\n",
    "print(\" The Volume of a Cuboid = %.2f\" %Volume)\n",
    "print(\"Area of one of the biggest faces is \", maximum(a, b, c),\"cm²\")"
   ]
  },
  {
   "cell_type": "markdown",
   "metadata": {},
   "source": [
    "# Q.2"
   ]
  },
  {
   "cell_type": "code",
   "execution_count": 8,
   "metadata": {},
   "outputs": [
    {
     "name": "stdout",
     "output_type": "stream",
     "text": [
      "\n",
      " The Surface Area of a Cuboid = 2700.00 \n",
      " The Volume of a Cuboid = 9000.00\n",
      "Area of one of the biggest faces is  600 cm²\n",
      "\n",
      " The Surface Area of a Cuboid = 3100.00 \n",
      " The Volume of a Cuboid = 12000.00\n",
      "Area of one of the biggest faces is  800 cm²\n",
      "\n",
      " The Surface Area of a Cuboid = 3500.00 \n",
      " The Volume of a Cuboid = 15000.00\n",
      "Area of one of the biggest faces is  1000 cm²\n"
     ]
    }
   ],
   "source": [
    "length_1 = 30\n",
    "length_2 = 40\n",
    "length_3 = 50\n",
    "width = 20\n",
    "height = 15\n",
    "\n",
    "# Calculate the Surface Area\n",
    "Surface_Area_1 = 2 * (length_1 * width + length * height + width * height)\n",
    "Surface_Area_2 = 2 * (length_2 * width + length * height + width * height)\n",
    "Surface_Area_3 = 2 * (length_3 * width + length * height + width * height)\n",
    "\n",
    "# Calculate the Volume\n",
    "Volume_1 = length_1 * width * height\n",
    "Volume_2 = length_2 * width * height\n",
    "Volume_3 = length_3 * width * height\n",
    "\n",
    " # Calculate the biggest face with length_1\n",
    "a_1 = length_1*width\n",
    "b_1 = width*height\n",
    "c_1 = height*length_1\n",
    "def maximum(a_1, b_1, c_1):\n",
    "    list = [a_1, b_1, c_1]\n",
    "    return max(list)\n",
    "\n",
    "# Calculate the biggest face with length_2\n",
    "a_2 = length_2*width\n",
    "b_2 = width*height\n",
    "c_2 = height*length_2\n",
    "def maximum(a_2, b_2, c_2):\n",
    "    list = [a_2, b_2, c_2]\n",
    "    return max(list)\n",
    "\n",
    "# Calculate the biggest face with length_3\n",
    "a_3 = length_3*width\n",
    "b_3 = width*height\n",
    "c_3 = height*length_3\n",
    "def maximum(a_3, b_3, c_3):\n",
    "    list = [a_3, b_3, c_3]\n",
    "    return max(list)\n",
    "\n",
    "# FInal output\n",
    "#for length of 30cm\n",
    "print(\"\\n The Surface Area of a Cuboid = %.2f \" %Surface_Area_1)\n",
    "print(\" The Volume of a Cuboid = %.2f\" %Volume_1)\n",
    "print(\"Area of one of the biggest faces is \", maximum(a_1, b_1, c_1),\"cm²\")\n",
    "\n",
    "#for length of 40cm\n",
    "print(\"\\n The Surface Area of a Cuboid = %.2f \" %Surface_Area_2)\n",
    "print(\" The Volume of a Cuboid = %.2f\" %Volume_2)\n",
    "print(\"Area of one of the biggest faces is \", maximum(a_2, b_2, c_2),\"cm²\")\n",
    "\n",
    "#for length of 50cm\n",
    "print(\"\\n The Surface Area of a Cuboid = %.2f \" %Surface_Area_3)\n",
    "print(\" The Volume of a Cuboid = %.2f\" %Volume_3)\n",
    "print(\"Area of one of the biggest faces is \", maximum(a_3, b_3, c_3),\"cm²\")"
   ]
  },
  {
   "cell_type": "markdown",
   "metadata": {},
   "source": [
    "# Q.3 Self-learning activity"
   ]
  },
  {
   "cell_type": "raw",
   "metadata": {},
   "source": [
    "Unit Test in Python:\n",
    "\n",
    "If you have a fancy modern car, it will tell you when your light bulbs have gone. It does this using a form of unit test.\n",
    "\n",
    "A unit test is a smaller test, one that checks that a single component operates in the right way. A unit test helps you to isolate what is broken in your application and fix it faster.\n",
    "\n",
    "You have just seen two types of tests:\n",
    "\n",
    "An integration test checks that components in your application operate with each other.\n",
    "A unit test checks a small component in your application.\n",
    "\n",
    "There is a module in Python’s standard library called unittest which contains tools for testing your code. Unit testing checks if all specific parts of your function’s behavior are correct, which will make integrating  them together with other parts much easier.\n",
    "\n",
    "Test case is a collection of unit tests which together proves that a  function works as intended, inside a full range of situations in which that function may find itself and that it’s expected to handle. Test case should consider all possible kinds of input a function could receive from users, and therefore should include tests to represent each of these situations.\n",
    "\n",
    "Passing a test\n",
    "Here’s a typical scenario for writing tests:\n",
    "\n",
    "First you need to create a test file. Then import the unittest module, define the testing class that inherits from unittest.TestCase, and lastly, write a series of methods to test all the cases of your function’s behavior.\n",
    "\n",
    "Failing a test\n",
    "To show you what a failing test looks like I’m going to modify a  formatted_name() function by including a new middle name argument.\n",
    "In the output you will see information that will tell you all you need to know where the test fails:\n",
    "\n",
    "First item in the output is the Error telling you that at least one test in test case resulted in an error.\n",
    "Next you’ll see the file and method in which the error occurred.\n",
    "After that you will see the line in which the error occurred.\n",
    "And what kind of error it is, in this case we are missing 1 argument “middle_name”.\n",
    "You will also see the number of run tests, the time needed for the tests to  complete, and a textual message that represents the status of the tests with number of errors that occurred."
   ]
  },
  {
   "cell_type": "raw",
   "metadata": {},
   "source": [
    "Python Profilers:\n",
    "\n",
    "Today, there are so many of areas where you write code ranging from basic conditional logics to complex websites, apps, algorithms, etc. The main aspect while writing any code, especially when deploying, is that it should consume the lowest computational time and cost.\n",
    "\n",
    "This is especially important when you run code on cloud services like AWS, Google Cloud or Azure, where there is a defined cost associated with the usage of computing resources. If you have two pieces of code that give the same result, the one that takes the least time and resource is usually chosen.\n",
    "\n",
    "Introduction to cProfile\n",
    "cProfile is a built-in python module that can perform profiling. It is the most commonly used profiler currently.\n",
    "\n",
    "But, why cProfile is preferred?\n",
    "\n",
    "It gives you the total run time taken by the entire code.\n",
    "It also shows the time taken by each individual step. This allows you to compare and find which parts need optimization\n",
    "cProfile module also tells the number of times certain functions are being called.\n",
    "The data inferred can be exported easily using pstats module.\n",
    "The data can be visualized nicely using snakeviz module. Examples come later in this post.\n",
    "\n",
    "The cProfile profiler is one implementation of the Python profiling interface. It measures the time spent within functions and the number of calls made to them.\n",
    "\n",
    "Note: The timing information should not be taken as absolute values, since the profiling itself could possibly extend the run time in some cases.\n",
    "\n",
    "Run the following command to profile the code:\n",
    "\n",
    "Replace python scatter.py with\n",
    "\n",
    "python -m cProfile -o output.pstats scatter.py\n",
    "in your Slurm script or when running interactively. Additional arguments can be passed to the scatter.py at the end if needed.\n",
    "\n",
    "Notice the two options in the above command.\n",
    "\n",
    "-m cProfile : the -m option specifies the python module to run as a script - this allows us to run cProfile from the command-line\n",
    "-o output.pstats : the -o option specifies that the profiling results be written to the named file\n",
    "If you leave out these options the code will just run normally.\n",
    "\n",
    "Visualising the profiling output with gprof2dot\n",
    "Note: You will need programs gprof2dot and dot, which are available on Mahuika and Maui. On other systems, use conda install gprof2dot to install gprof2dot and conda install graphviz to install Graphviz which provides the dot command.\n",
    "\n",
    "Run gprof2dot to generate a PNG image file:\n",
    "\n",
    "gprof2dot --colour-nodes-by-selftime -f pstats output.pstats | \\\n",
    "    dot -Tpng -o output.png\n",
    "On Maui, generate an EPS image\n",
    "\n",
    "gprof2dot --colour-nodes-by-selftime -f pstats output.pstats | \\\n",
    "    dot -Teps -o output.eps\n",
    "as you would otherwise get message Format: \"png\" not recognized.\n",
    "\n",
    "Now view output.png with the command display output.png on Mahuika (or display output.eps on Maui) if you have enabled X11-forwarding in your ssh command. Alternatively, you can copy the file your local machine and open it there."
   ]
  }
 ],
 "metadata": {
  "kernelspec": {
   "display_name": "Python 3",
   "language": "python",
   "name": "python3"
  },
  "language_info": {
   "codemirror_mode": {
    "name": "ipython",
    "version": 3
   },
   "file_extension": ".py",
   "mimetype": "text/x-python",
   "name": "python",
   "nbconvert_exporter": "python",
   "pygments_lexer": "ipython3",
   "version": "3.7.4"
  }
 },
 "nbformat": 4,
 "nbformat_minor": 2
}
